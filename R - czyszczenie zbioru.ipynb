{
  "nbformat": 4,
  "nbformat_minor": 0,
  "metadata": {
    "colab": {
      "provenance": []
    },
    "kernelspec": {
      "name": "ir",
      "display_name": "R"
    },
    "language_info": {
      "name": "R"
    }
  },
  "cells": [
    {
      "cell_type": "markdown",
      "metadata": {
        "id": "uiTeLffHNoSA"
      },
      "source": [
        "#Zadanie 1"
      ]
    },
    {
      "cell_type": "markdown",
      "source": [
        "##Utwórz kopię pliku na swoim dysku google. Zmień nazwę na R_Zadanie_1_imię_nazwisko.jpynb"
      ],
      "metadata": {
        "id": "ZukjDlYsI2jp"
      }
    },
    {
      "cell_type": "markdown",
      "metadata": {
        "id": "pfrBly4cax1u"
      },
      "source": [
        "Analiza dotyczy zbioru danych, który zawiera informacje na temat batonów czekoladowych.\\\n",
        "Zmiennne:\n",
        "* nazwa firmy produkującej batony czekoladowe\n",
        "* pochodzenie ziaren kakaowych lub nazwa batonu\n",
        "* numer referencyjny\n",
        "* rok przeglądu\n",
        "* procentowa zawartość kako w czekoladzie\n",
        "* lokalizacja firmy produkującej czekoladę\n",
        "* ocena batonu czekoladowego\n",
        "* pochodzenie ziaren kakaowca\n",
        "\n",
        "System oceny smaków kakao:\\\n",
        "5= Elita (Przekraczanie poza zwykłe granice)\\\n",
        "4= Premium (Doskonały rozwój smaku, charakteru i stylu)\\\n",
        "3 = zadowalający (3,0) do godnego pochwały (3,75) (dobrze wykonany, o specjalnych właściwościach)\\\n",
        "2= Rozczarowujący (Zadowalający, ale zawiera co najmniej jedną istotną wadę)\\\n",
        "1= Nieprzyjemny (przeważnie niesmaczny)\\\n",
        "REF – wartość powiązana z datą wprowadzenia recenzji do bazy danych. Wyższy = nowszy."
      ]
    },
    {
      "cell_type": "markdown",
      "source": [
        "##Wczytaj zbiór danych znajdujący sie pod adresem:\n",
        "https://raw.githubusercontent.com/clauswilke/dviz.supp/master/data-raw/cacao/flavors_of_cacao.csv"
      ],
      "metadata": {
        "id": "QMIMVuuJlhLZ"
      }
    },
    {
      "cell_type": "code",
      "source": [
        "url <- \"https://raw.githubusercontent.com/clauswilke/dviz.supp/master/data-raw/cacao/flavors_of_cacao.csv\"\n",
        "df <- read.csv(url)\n",
        "head(df)"
      ],
      "metadata": {
        "id": "fFKXjBSzlte2",
        "colab": {
          "base_uri": "https://localhost:8080/",
          "height": 306
        },
        "outputId": "b065f952-7c0b-494c-e561-563c952dab4a"
      },
      "execution_count": 136,
      "outputs": [
        {
          "output_type": "display_data",
          "data": {
            "text/html": [
              "<table class=\"dataframe\">\n",
              "<caption>A data.frame: 6 × 9</caption>\n",
              "<thead>\n",
              "\t<tr><th></th><th scope=col>Company...Maker.if.known.</th><th scope=col>Specific.Bean.Origin.or.Bar.Name</th><th scope=col>REF</th><th scope=col>Review.Date</th><th scope=col>Cocoa.Percent</th><th scope=col>Company.Location</th><th scope=col>Rating</th><th scope=col>Bean.Type</th><th scope=col>Broad.Bean.Origin</th></tr>\n",
              "\t<tr><th></th><th scope=col>&lt;chr&gt;</th><th scope=col>&lt;chr&gt;</th><th scope=col>&lt;int&gt;</th><th scope=col>&lt;int&gt;</th><th scope=col>&lt;chr&gt;</th><th scope=col>&lt;chr&gt;</th><th scope=col>&lt;dbl&gt;</th><th scope=col>&lt;chr&gt;</th><th scope=col>&lt;chr&gt;</th></tr>\n",
              "</thead>\n",
              "<tbody>\n",
              "\t<tr><th scope=row>1</th><td>A. Morin</td><td>Agua Grande</td><td>1876</td><td>2016</td><td>63%</td><td>France</td><td>3.75</td><td>       </td><td>Sao Tome </td></tr>\n",
              "\t<tr><th scope=row>2</th><td>A. Morin</td><td>Kpime      </td><td>1676</td><td>2015</td><td>70%</td><td>France</td><td>2.75</td><td>       </td><td>Togo     </td></tr>\n",
              "\t<tr><th scope=row>3</th><td>A. Morin</td><td>Atsane     </td><td>1676</td><td>2015</td><td>70%</td><td>France</td><td>3.00</td><td>       </td><td>Togo     </td></tr>\n",
              "\t<tr><th scope=row>4</th><td>A. Morin</td><td>Akata      </td><td>1680</td><td>2015</td><td>70%</td><td>France</td><td>3.50</td><td>       </td><td>Togo     </td></tr>\n",
              "\t<tr><th scope=row>5</th><td>A. Morin</td><td>Quilla     </td><td>1704</td><td>2015</td><td>70%</td><td>France</td><td>3.50</td><td>       </td><td>Peru     </td></tr>\n",
              "\t<tr><th scope=row>6</th><td>A. Morin</td><td>Carenero   </td><td>1315</td><td>2014</td><td>70%</td><td>France</td><td>2.75</td><td>Criollo</td><td>Venezuela</td></tr>\n",
              "</tbody>\n",
              "</table>\n"
            ],
            "text/markdown": "\nA data.frame: 6 × 9\n\n| <!--/--> | Company...Maker.if.known. &lt;chr&gt; | Specific.Bean.Origin.or.Bar.Name &lt;chr&gt; | REF &lt;int&gt; | Review.Date &lt;int&gt; | Cocoa.Percent &lt;chr&gt; | Company.Location &lt;chr&gt; | Rating &lt;dbl&gt; | Bean.Type &lt;chr&gt; | Broad.Bean.Origin &lt;chr&gt; |\n|---|---|---|---|---|---|---|---|---|---|\n| 1 | A. Morin | Agua Grande | 1876 | 2016 | 63% | France | 3.75 |         | Sao Tome  |\n| 2 | A. Morin | Kpime       | 1676 | 2015 | 70% | France | 2.75 |         | Togo      |\n| 3 | A. Morin | Atsane      | 1676 | 2015 | 70% | France | 3.00 |         | Togo      |\n| 4 | A. Morin | Akata       | 1680 | 2015 | 70% | France | 3.50 |         | Togo      |\n| 5 | A. Morin | Quilla      | 1704 | 2015 | 70% | France | 3.50 |         | Peru      |\n| 6 | A. Morin | Carenero    | 1315 | 2014 | 70% | France | 2.75 | Criollo | Venezuela |\n\n",
            "text/latex": "A data.frame: 6 × 9\n\\begin{tabular}{r|lllllllll}\n  & Company...Maker.if.known. & Specific.Bean.Origin.or.Bar.Name & REF & Review.Date & Cocoa.Percent & Company.Location & Rating & Bean.Type & Broad.Bean.Origin\\\\\n  & <chr> & <chr> & <int> & <int> & <chr> & <chr> & <dbl> & <chr> & <chr>\\\\\n\\hline\n\t1 & A. Morin & Agua Grande & 1876 & 2016 & 63\\% & France & 3.75 &         & Sao Tome \\\\\n\t2 & A. Morin & Kpime       & 1676 & 2015 & 70\\% & France & 2.75 &         & Togo     \\\\\n\t3 & A. Morin & Atsane      & 1676 & 2015 & 70\\% & France & 3.00 &         & Togo     \\\\\n\t4 & A. Morin & Akata       & 1680 & 2015 & 70\\% & France & 3.50 &         & Togo     \\\\\n\t5 & A. Morin & Quilla      & 1704 & 2015 & 70\\% & France & 3.50 &         & Peru     \\\\\n\t6 & A. Morin & Carenero    & 1315 & 2014 & 70\\% & France & 2.75 & Criollo & Venezuela\\\\\n\\end{tabular}\n",
            "text/plain": [
              "  Company...Maker.if.known. Specific.Bean.Origin.or.Bar.Name REF  Review.Date\n",
              "1 A. Morin                  Agua Grande                      1876 2016       \n",
              "2 A. Morin                  Kpime                            1676 2015       \n",
              "3 A. Morin                  Atsane                           1676 2015       \n",
              "4 A. Morin                  Akata                            1680 2015       \n",
              "5 A. Morin                  Quilla                           1704 2015       \n",
              "6 A. Morin                  Carenero                         1315 2014       \n",
              "  Cocoa.Percent Company.Location Rating Bean.Type Broad.Bean.Origin\n",
              "1 63%           France           3.75             Sao Tome         \n",
              "2 70%           France           2.75             Togo             \n",
              "3 70%           France           3.00             Togo             \n",
              "4 70%           France           3.50             Togo             \n",
              "5 70%           France           3.50             Peru             \n",
              "6 70%           France           2.75   Criollo   Venezuela        "
            ]
          },
          "metadata": {}
        }
      ]
    },
    {
      "cell_type": "markdown",
      "source": [
        "## Zaimportuj pakiet Tidiverse"
      ],
      "metadata": {
        "id": "kaUnrW215Dy8"
      }
    },
    {
      "cell_type": "code",
      "source": [
        "library(tidyverse)"
      ],
      "metadata": {
        "id": "ltOeuaWE5G69"
      },
      "execution_count": 137,
      "outputs": []
    },
    {
      "cell_type": "markdown",
      "metadata": {
        "id": "mnyTdf7Jq-jF"
      },
      "source": [
        "## Przygotowanie danych"
      ]
    },
    {
      "cell_type": "markdown",
      "source": [
        "Wczytaj dane zmieniając nazwy kolumn na:\\\n",
        "'Company', 'Specific_Bean_Origin_or_Bar_Name', 'REF','Review_Date', 'Cocoa_Percentage', 'Company_Location','Rating', 'Bean_Type', 'Broad_Bean_Origin'"
      ],
      "metadata": {
        "id": "7IgJWBLn15eX"
      }
    },
    {
      "cell_type": "code",
      "source": [
        "names(df) <- c(\"Company\", \"Specific_Bean_Origin_or_Bar_Name\", \"REF\", \"Review_Date\", \"Cocoa_Percentage\", \"Company_Location\", \"Rating\", \"Bean_Type\", \"Broad_Bean_Origin\")"
      ],
      "metadata": {
        "id": "wY8zYpgRmRtA"
      },
      "execution_count": 138,
      "outputs": []
    },
    {
      "cell_type": "markdown",
      "source": [
        "Wyświtl \"kształt\" zbioru - liczba wierszy i kolumn"
      ],
      "metadata": {
        "id": "RN_ApCUO2Mqb"
      }
    },
    {
      "cell_type": "code",
      "source": [
        "cat(\"Liczba wierszy:\", nrow(df), \"\\n\")\n",
        "cat(\"Liczba kolumn:\", ncol(df), \"\\n\")"
      ],
      "metadata": {
        "id": "A25_wHDY2S0_",
        "colab": {
          "base_uri": "https://localhost:8080/"
        },
        "outputId": "9d5fdc44-74b9-468a-f285-cfc9ebb536bb"
      },
      "execution_count": 139,
      "outputs": [
        {
          "output_type": "stream",
          "name": "stdout",
          "text": [
            "Liczba wierszy: 1795 \n",
            "Liczba kolumn: 9 \n"
          ]
        }
      ]
    },
    {
      "cell_type": "markdown",
      "source": [
        "Wyświetl strukturę zbioru danych (nazwy zmiennych\n",
        ", typ danych, ...)"
      ],
      "metadata": {
        "id": "TiFgtOg51-MS"
      }
    },
    {
      "cell_type": "code",
      "source": [
        "str(data)"
      ],
      "metadata": {
        "id": "57ecawuCmRah",
        "colab": {
          "base_uri": "https://localhost:8080/"
        },
        "outputId": "719038db-b45e-43f2-c40f-59811ce54c25"
      },
      "execution_count": 140,
      "outputs": [
        {
          "output_type": "stream",
          "name": "stdout",
          "text": [
            "'data.frame':\t1795 obs. of  9 variables:\n",
            " $ Company                         : chr  \"A. Morin\" \"A. Morin\" \"A. Morin\" \"A. Morin\" ...\n",
            " $ Specific_Bean_Origin_or_Bar_Name: chr  \"Agua Grande\" \"Kpime\" \"Atsane\" \"Akata\" ...\n",
            " $ REF                             : int  1876 1676 1676 1680 1704 1315 1315 1315 1319 1319 ...\n",
            " $ Review_Date                     : int  2016 2015 2015 2015 2015 2014 2014 2014 2014 2014 ...\n",
            " $ Cocoa_Percentage                : chr  \"63\" \"70\" \"70\" \"70\" ...\n",
            " $ Company_Location                : chr  \"France\" \"France\" \"France\" \"France\" ...\n",
            " $ Rating                          : num  3.75 2.75 3 3.5 3.5 2.75 3.5 3.5 3.75 4 ...\n",
            " $ Bean_Type                       : chr  \" \" \" \" \" \" \" \" ...\n",
            " $ Broad_Bean_Origin               : chr  \"Sao Tome\" \"Togo\" \"Togo\" \"Togo\" ...\n"
          ]
        }
      ]
    },
    {
      "cell_type": "markdown",
      "source": [
        "Usuń znak \"%\" w zmiennej procent Cocoa_Percentage - ustaw odpowiednio typ danej\n"
      ],
      "metadata": {
        "id": "Lq5YSs8T2XWU"
      }
    },
    {
      "cell_type": "code",
      "source": [
        "df$Cocoa_Percentage <- gsub(\"%\", \"\", df$Cocoa_Percentage)\n",
        "head(df)"
      ],
      "metadata": {
        "id": "PSHMbqBN2lmH",
        "colab": {
          "base_uri": "https://localhost:8080/",
          "height": 286
        },
        "outputId": "18109b0d-a89f-41fc-d99e-8ecbb8dcd19f"
      },
      "execution_count": 141,
      "outputs": [
        {
          "output_type": "display_data",
          "data": {
            "text/html": [
              "<table class=\"dataframe\">\n",
              "<caption>A data.frame: 6 × 9</caption>\n",
              "<thead>\n",
              "\t<tr><th></th><th scope=col>Company</th><th scope=col>Specific_Bean_Origin_or_Bar_Name</th><th scope=col>REF</th><th scope=col>Review_Date</th><th scope=col>Cocoa_Percentage</th><th scope=col>Company_Location</th><th scope=col>Rating</th><th scope=col>Bean_Type</th><th scope=col>Broad_Bean_Origin</th></tr>\n",
              "\t<tr><th></th><th scope=col>&lt;chr&gt;</th><th scope=col>&lt;chr&gt;</th><th scope=col>&lt;int&gt;</th><th scope=col>&lt;int&gt;</th><th scope=col>&lt;chr&gt;</th><th scope=col>&lt;chr&gt;</th><th scope=col>&lt;dbl&gt;</th><th scope=col>&lt;chr&gt;</th><th scope=col>&lt;chr&gt;</th></tr>\n",
              "</thead>\n",
              "<tbody>\n",
              "\t<tr><th scope=row>1</th><td>A. Morin</td><td>Agua Grande</td><td>1876</td><td>2016</td><td>63</td><td>France</td><td>3.75</td><td>       </td><td>Sao Tome </td></tr>\n",
              "\t<tr><th scope=row>2</th><td>A. Morin</td><td>Kpime      </td><td>1676</td><td>2015</td><td>70</td><td>France</td><td>2.75</td><td>       </td><td>Togo     </td></tr>\n",
              "\t<tr><th scope=row>3</th><td>A. Morin</td><td>Atsane     </td><td>1676</td><td>2015</td><td>70</td><td>France</td><td>3.00</td><td>       </td><td>Togo     </td></tr>\n",
              "\t<tr><th scope=row>4</th><td>A. Morin</td><td>Akata      </td><td>1680</td><td>2015</td><td>70</td><td>France</td><td>3.50</td><td>       </td><td>Togo     </td></tr>\n",
              "\t<tr><th scope=row>5</th><td>A. Morin</td><td>Quilla     </td><td>1704</td><td>2015</td><td>70</td><td>France</td><td>3.50</td><td>       </td><td>Peru     </td></tr>\n",
              "\t<tr><th scope=row>6</th><td>A. Morin</td><td>Carenero   </td><td>1315</td><td>2014</td><td>70</td><td>France</td><td>2.75</td><td>Criollo</td><td>Venezuela</td></tr>\n",
              "</tbody>\n",
              "</table>\n"
            ],
            "text/markdown": "\nA data.frame: 6 × 9\n\n| <!--/--> | Company &lt;chr&gt; | Specific_Bean_Origin_or_Bar_Name &lt;chr&gt; | REF &lt;int&gt; | Review_Date &lt;int&gt; | Cocoa_Percentage &lt;chr&gt; | Company_Location &lt;chr&gt; | Rating &lt;dbl&gt; | Bean_Type &lt;chr&gt; | Broad_Bean_Origin &lt;chr&gt; |\n|---|---|---|---|---|---|---|---|---|---|\n| 1 | A. Morin | Agua Grande | 1876 | 2016 | 63 | France | 3.75 |         | Sao Tome  |\n| 2 | A. Morin | Kpime       | 1676 | 2015 | 70 | France | 2.75 |         | Togo      |\n| 3 | A. Morin | Atsane      | 1676 | 2015 | 70 | France | 3.00 |         | Togo      |\n| 4 | A. Morin | Akata       | 1680 | 2015 | 70 | France | 3.50 |         | Togo      |\n| 5 | A. Morin | Quilla      | 1704 | 2015 | 70 | France | 3.50 |         | Peru      |\n| 6 | A. Morin | Carenero    | 1315 | 2014 | 70 | France | 2.75 | Criollo | Venezuela |\n\n",
            "text/latex": "A data.frame: 6 × 9\n\\begin{tabular}{r|lllllllll}\n  & Company & Specific\\_Bean\\_Origin\\_or\\_Bar\\_Name & REF & Review\\_Date & Cocoa\\_Percentage & Company\\_Location & Rating & Bean\\_Type & Broad\\_Bean\\_Origin\\\\\n  & <chr> & <chr> & <int> & <int> & <chr> & <chr> & <dbl> & <chr> & <chr>\\\\\n\\hline\n\t1 & A. Morin & Agua Grande & 1876 & 2016 & 63 & France & 3.75 &         & Sao Tome \\\\\n\t2 & A. Morin & Kpime       & 1676 & 2015 & 70 & France & 2.75 &         & Togo     \\\\\n\t3 & A. Morin & Atsane      & 1676 & 2015 & 70 & France & 3.00 &         & Togo     \\\\\n\t4 & A. Morin & Akata       & 1680 & 2015 & 70 & France & 3.50 &         & Togo     \\\\\n\t5 & A. Morin & Quilla      & 1704 & 2015 & 70 & France & 3.50 &         & Peru     \\\\\n\t6 & A. Morin & Carenero    & 1315 & 2014 & 70 & France & 2.75 & Criollo & Venezuela\\\\\n\\end{tabular}\n",
            "text/plain": [
              "  Company  Specific_Bean_Origin_or_Bar_Name REF  Review_Date Cocoa_Percentage\n",
              "1 A. Morin Agua Grande                      1876 2016        63              \n",
              "2 A. Morin Kpime                            1676 2015        70              \n",
              "3 A. Morin Atsane                           1676 2015        70              \n",
              "4 A. Morin Akata                            1680 2015        70              \n",
              "5 A. Morin Quilla                           1704 2015        70              \n",
              "6 A. Morin Carenero                         1315 2014        70              \n",
              "  Company_Location Rating Bean_Type Broad_Bean_Origin\n",
              "1 France           3.75             Sao Tome         \n",
              "2 France           2.75             Togo             \n",
              "3 France           3.00             Togo             \n",
              "4 France           3.50             Togo             \n",
              "5 France           3.50             Peru             \n",
              "6 France           2.75   Criollo   Venezuela        "
            ]
          },
          "metadata": {}
        }
      ]
    },
    {
      "cell_type": "markdown",
      "source": [
        "Sprawdź ile jest braków w zbiorze danych"
      ],
      "metadata": {
        "id": "IzM8nSuu2umj"
      }
    },
    {
      "cell_type": "code",
      "source": [
        "braki_w_kolumnach <- sum(!grepl(\"^[a-zA-Z0-9]\", df$Bean_Type))\n",
        "cat(\"Liczba braków w kolumnie 'Bean_Type':\", braki_w_kolumnach, \"\\n\")\n",
        "\n",
        "braki_w_kolumnach2 <- sum(!grepl(\"^[a-zA-Z0-9]\", df$Broad_Bean_Origin))\n",
        "cat(\"Liczba braków w kolumnie 'Broad_Bean_Origin':\", braki_w_kolumnach2, \"\\n\")\n",
        "\n",
        "ogolna_liczba_brakow <- sum(is.na(df))"
      ],
      "metadata": {
        "id": "OqDo-TD921Pw",
        "colab": {
          "base_uri": "https://localhost:8080/"
        },
        "outputId": "9648b7f7-34a2-406d-a59f-d327d161dc84"
      },
      "execution_count": 142,
      "outputs": [
        {
          "output_type": "stream",
          "name": "stdout",
          "text": [
            "Liczba braków w kolumnie 'Bean_Type': 888 \n",
            "Liczba braków w kolumnie 'Broad_Bean_Origin': 74 \n"
          ]
        }
      ]
    },
    {
      "cell_type": "markdown",
      "source": [
        "Wyświetl nazwy kolumn, w których występują braki"
      ],
      "metadata": {
        "id": "SYvYqZeq4pr_"
      }
    },
    {
      "cell_type": "code",
      "source": [
        "df <- mutate_all(df, as.character)\n",
        "\n",
        "braki_w_kolumnach <- colSums(is.na(df) | df == \"\")\n",
        "nazwy_kolumn_z_brakami <- names(braki_w_kolumnach[braki_w_kolumnach > 0])\n",
        "print(nazwy_kolumn_z_brakami)"
      ],
      "metadata": {
        "id": "s5uZTtPp4usP",
        "colab": {
          "base_uri": "https://localhost:8080/"
        },
        "outputId": "ec98d391-e5b2-49e9-c752-af2b8b0bb3a7"
      },
      "execution_count": 143,
      "outputs": [
        {
          "output_type": "stream",
          "name": "stdout",
          "text": [
            "[1] \"Bean_Type\"         \"Broad_Bean_Origin\"\n"
          ]
        }
      ]
    },
    {
      "cell_type": "markdown",
      "source": [
        "Usun cały wiersz, dla którego zmienna Broad_Bean_Origin zawiera brakujące dane"
      ],
      "metadata": {
        "id": "ga5zTJ7521zb"
      }
    },
    {
      "cell_type": "code",
      "source": [
        "df_clean <- df[complete.cases(df$Broad_Bean_Origin), ]\n",
        "\n",
        "head(df_clean)"
      ],
      "metadata": {
        "id": "hhc9CJJ141k8",
        "colab": {
          "base_uri": "https://localhost:8080/",
          "height": 286
        },
        "outputId": "5a829691-43f0-4380-de80-d4e286b924db"
      },
      "execution_count": 144,
      "outputs": [
        {
          "output_type": "display_data",
          "data": {
            "text/html": [
              "<table class=\"dataframe\">\n",
              "<caption>A data.frame: 6 × 9</caption>\n",
              "<thead>\n",
              "\t<tr><th></th><th scope=col>Company</th><th scope=col>Specific_Bean_Origin_or_Bar_Name</th><th scope=col>REF</th><th scope=col>Review_Date</th><th scope=col>Cocoa_Percentage</th><th scope=col>Company_Location</th><th scope=col>Rating</th><th scope=col>Bean_Type</th><th scope=col>Broad_Bean_Origin</th></tr>\n",
              "\t<tr><th></th><th scope=col>&lt;chr&gt;</th><th scope=col>&lt;chr&gt;</th><th scope=col>&lt;chr&gt;</th><th scope=col>&lt;chr&gt;</th><th scope=col>&lt;chr&gt;</th><th scope=col>&lt;chr&gt;</th><th scope=col>&lt;chr&gt;</th><th scope=col>&lt;chr&gt;</th><th scope=col>&lt;chr&gt;</th></tr>\n",
              "</thead>\n",
              "<tbody>\n",
              "\t<tr><th scope=row>1</th><td>A. Morin</td><td>Agua Grande</td><td>1876</td><td>2016</td><td>63</td><td>France</td><td>3.75</td><td>       </td><td>Sao Tome </td></tr>\n",
              "\t<tr><th scope=row>2</th><td>A. Morin</td><td>Kpime      </td><td>1676</td><td>2015</td><td>70</td><td>France</td><td>2.75</td><td>       </td><td>Togo     </td></tr>\n",
              "\t<tr><th scope=row>3</th><td>A. Morin</td><td>Atsane     </td><td>1676</td><td>2015</td><td>70</td><td>France</td><td>3   </td><td>       </td><td>Togo     </td></tr>\n",
              "\t<tr><th scope=row>4</th><td>A. Morin</td><td>Akata      </td><td>1680</td><td>2015</td><td>70</td><td>France</td><td>3.5 </td><td>       </td><td>Togo     </td></tr>\n",
              "\t<tr><th scope=row>5</th><td>A. Morin</td><td>Quilla     </td><td>1704</td><td>2015</td><td>70</td><td>France</td><td>3.5 </td><td>       </td><td>Peru     </td></tr>\n",
              "\t<tr><th scope=row>6</th><td>A. Morin</td><td>Carenero   </td><td>1315</td><td>2014</td><td>70</td><td>France</td><td>2.75</td><td>Criollo</td><td>Venezuela</td></tr>\n",
              "</tbody>\n",
              "</table>\n"
            ],
            "text/markdown": "\nA data.frame: 6 × 9\n\n| <!--/--> | Company &lt;chr&gt; | Specific_Bean_Origin_or_Bar_Name &lt;chr&gt; | REF &lt;chr&gt; | Review_Date &lt;chr&gt; | Cocoa_Percentage &lt;chr&gt; | Company_Location &lt;chr&gt; | Rating &lt;chr&gt; | Bean_Type &lt;chr&gt; | Broad_Bean_Origin &lt;chr&gt; |\n|---|---|---|---|---|---|---|---|---|---|\n| 1 | A. Morin | Agua Grande | 1876 | 2016 | 63 | France | 3.75 |         | Sao Tome  |\n| 2 | A. Morin | Kpime       | 1676 | 2015 | 70 | France | 2.75 |         | Togo      |\n| 3 | A. Morin | Atsane      | 1676 | 2015 | 70 | France | 3    |         | Togo      |\n| 4 | A. Morin | Akata       | 1680 | 2015 | 70 | France | 3.5  |         | Togo      |\n| 5 | A. Morin | Quilla      | 1704 | 2015 | 70 | France | 3.5  |         | Peru      |\n| 6 | A. Morin | Carenero    | 1315 | 2014 | 70 | France | 2.75 | Criollo | Venezuela |\n\n",
            "text/latex": "A data.frame: 6 × 9\n\\begin{tabular}{r|lllllllll}\n  & Company & Specific\\_Bean\\_Origin\\_or\\_Bar\\_Name & REF & Review\\_Date & Cocoa\\_Percentage & Company\\_Location & Rating & Bean\\_Type & Broad\\_Bean\\_Origin\\\\\n  & <chr> & <chr> & <chr> & <chr> & <chr> & <chr> & <chr> & <chr> & <chr>\\\\\n\\hline\n\t1 & A. Morin & Agua Grande & 1876 & 2016 & 63 & France & 3.75 &         & Sao Tome \\\\\n\t2 & A. Morin & Kpime       & 1676 & 2015 & 70 & France & 2.75 &         & Togo     \\\\\n\t3 & A. Morin & Atsane      & 1676 & 2015 & 70 & France & 3    &         & Togo     \\\\\n\t4 & A. Morin & Akata       & 1680 & 2015 & 70 & France & 3.5  &         & Togo     \\\\\n\t5 & A. Morin & Quilla      & 1704 & 2015 & 70 & France & 3.5  &         & Peru     \\\\\n\t6 & A. Morin & Carenero    & 1315 & 2014 & 70 & France & 2.75 & Criollo & Venezuela\\\\\n\\end{tabular}\n",
            "text/plain": [
              "  Company  Specific_Bean_Origin_or_Bar_Name REF  Review_Date Cocoa_Percentage\n",
              "1 A. Morin Agua Grande                      1876 2016        63              \n",
              "2 A. Morin Kpime                            1676 2015        70              \n",
              "3 A. Morin Atsane                           1676 2015        70              \n",
              "4 A. Morin Akata                            1680 2015        70              \n",
              "5 A. Morin Quilla                           1704 2015        70              \n",
              "6 A. Morin Carenero                         1315 2014        70              \n",
              "  Company_Location Rating Bean_Type Broad_Bean_Origin\n",
              "1 France           3.75             Sao Tome         \n",
              "2 France           2.75             Togo             \n",
              "3 France           3                Togo             \n",
              "4 France           3.5              Togo             \n",
              "5 France           3.5              Peru             \n",
              "6 France           2.75   Criollo   Venezuela        "
            ]
          },
          "metadata": {}
        }
      ]
    },
    {
      "cell_type": "markdown",
      "source": [
        "Wykonaj tabelę liczności dla zmiennej Bean_Type"
      ],
      "metadata": {
        "id": "XMkEUsJ3FDVR"
      }
    },
    {
      "cell_type": "code",
      "source": [
        " table(data$Bean_Type)\n"
      ],
      "metadata": {
        "id": "Or3y4IP0FIqj",
        "colab": {
          "base_uri": "https://localhost:8080/",
          "height": 520
        },
        "outputId": "cf2dd7c9-3b45-40c4-94e1-59515e6e16c2"
      },
      "execution_count": 145,
      "outputs": [
        {
          "output_type": "display_data",
          "data": {
            "text/plain": [
              "\n",
              "                                                                    Amazon \n",
              "                       1                      887                        1 \n",
              "              Amazon mix              Amazon, ICS                  Beniano \n",
              "                       2                        2                        3 \n",
              "                   Blend  Blend-Forastero,Criollo                    CCN51 \n",
              "                      41                        1                        1 \n",
              "                 Criollo         Criollo (Amarru)     Criollo (Ocumare 61) \n",
              "                     153                        2                        2 \n",
              "    Criollo (Ocumare 67)     Criollo (Ocumare 77)        Criollo (Ocumare) \n",
              "                       1                        1                        1 \n",
              "     Criollo (Porcelana)           Criollo (Wild)               Criollo, + \n",
              "                      10                        1                        1 \n",
              "      Criollo, Forastero      Criollo, Trinitario                      EET \n",
              "                       2                       39                        3 \n",
              "               Forastero    Forastero (Amelonado)       Forastero (Arriba) \n",
              "                      87                        1                       37 \n",
              "  Forastero (Arriba) ASS  Forastero (Arriba) ASSS      Forastero (Catongo) \n",
              "                       6                        1                        2 \n",
              "    Forastero (Nacional)    Forastero (Parazinho)    Forastero, Trinitario \n",
              "                      52                        8                        1 \n",
              "  Forastero(Arriba, CCN)                   Matina                 Nacional \n",
              "                       1                        3                        2 \n",
              "       Nacional (Arriba)               Trinitario Trinitario (85% Criollo) \n",
              "                       3                      419                        2 \n",
              "  Trinitario (Amelonado)     Trinitario (Scavina)      Trinitario, Criollo \n",
              "                       1                        1                        9 \n",
              "   Trinitario, Forastero     Trinitario, Nacional         Trinitario, TCGA \n",
              "                       2                        1                        1 "
            ]
          },
          "metadata": {}
        }
      ]
    },
    {
      "cell_type": "markdown",
      "source": [
        "Spróbuj wyfiltrowac \"puste\" komórki dla zmiennej Bean_Type i zamienić je na NA\n"
      ],
      "metadata": {
        "id": "tfatqn6V4uSm"
      }
    },
    {
      "cell_type": "code",
      "source": [
        "df <- df %>% filter(!is.na(Bean_Type))"
      ],
      "metadata": {
        "id": "V2hFXpj5COtt"
      },
      "execution_count": 146,
      "outputs": []
    },
    {
      "cell_type": "markdown",
      "source": [
        "Usuń kolumnę Bean_Type"
      ],
      "metadata": {
        "id": "GnZ0EyYdmSE6"
      }
    },
    {
      "cell_type": "code",
      "source": [
        "df <- df %>% select(-Bean_Type)\n",
        "\n",
        "head(df)"
      ],
      "metadata": {
        "id": "ZOWZgglYCZ-M",
        "colab": {
          "base_uri": "https://localhost:8080/",
          "height": 286
        },
        "outputId": "6175f846-bf27-404e-b87d-e628d6d865ec"
      },
      "execution_count": 147,
      "outputs": [
        {
          "output_type": "display_data",
          "data": {
            "text/html": [
              "<table class=\"dataframe\">\n",
              "<caption>A data.frame: 6 × 8</caption>\n",
              "<thead>\n",
              "\t<tr><th></th><th scope=col>Company</th><th scope=col>Specific_Bean_Origin_or_Bar_Name</th><th scope=col>REF</th><th scope=col>Review_Date</th><th scope=col>Cocoa_Percentage</th><th scope=col>Company_Location</th><th scope=col>Rating</th><th scope=col>Broad_Bean_Origin</th></tr>\n",
              "\t<tr><th></th><th scope=col>&lt;chr&gt;</th><th scope=col>&lt;chr&gt;</th><th scope=col>&lt;chr&gt;</th><th scope=col>&lt;chr&gt;</th><th scope=col>&lt;chr&gt;</th><th scope=col>&lt;chr&gt;</th><th scope=col>&lt;chr&gt;</th><th scope=col>&lt;chr&gt;</th></tr>\n",
              "</thead>\n",
              "<tbody>\n",
              "\t<tr><th scope=row>1</th><td>A. Morin</td><td>Agua Grande</td><td>1876</td><td>2016</td><td>63</td><td>France</td><td>3.75</td><td>Sao Tome </td></tr>\n",
              "\t<tr><th scope=row>2</th><td>A. Morin</td><td>Kpime      </td><td>1676</td><td>2015</td><td>70</td><td>France</td><td>2.75</td><td>Togo     </td></tr>\n",
              "\t<tr><th scope=row>3</th><td>A. Morin</td><td>Atsane     </td><td>1676</td><td>2015</td><td>70</td><td>France</td><td>3   </td><td>Togo     </td></tr>\n",
              "\t<tr><th scope=row>4</th><td>A. Morin</td><td>Akata      </td><td>1680</td><td>2015</td><td>70</td><td>France</td><td>3.5 </td><td>Togo     </td></tr>\n",
              "\t<tr><th scope=row>5</th><td>A. Morin</td><td>Quilla     </td><td>1704</td><td>2015</td><td>70</td><td>France</td><td>3.5 </td><td>Peru     </td></tr>\n",
              "\t<tr><th scope=row>6</th><td>A. Morin</td><td>Carenero   </td><td>1315</td><td>2014</td><td>70</td><td>France</td><td>2.75</td><td>Venezuela</td></tr>\n",
              "</tbody>\n",
              "</table>\n"
            ],
            "text/markdown": "\nA data.frame: 6 × 8\n\n| <!--/--> | Company &lt;chr&gt; | Specific_Bean_Origin_or_Bar_Name &lt;chr&gt; | REF &lt;chr&gt; | Review_Date &lt;chr&gt; | Cocoa_Percentage &lt;chr&gt; | Company_Location &lt;chr&gt; | Rating &lt;chr&gt; | Broad_Bean_Origin &lt;chr&gt; |\n|---|---|---|---|---|---|---|---|---|\n| 1 | A. Morin | Agua Grande | 1876 | 2016 | 63 | France | 3.75 | Sao Tome  |\n| 2 | A. Morin | Kpime       | 1676 | 2015 | 70 | France | 2.75 | Togo      |\n| 3 | A. Morin | Atsane      | 1676 | 2015 | 70 | France | 3    | Togo      |\n| 4 | A. Morin | Akata       | 1680 | 2015 | 70 | France | 3.5  | Togo      |\n| 5 | A. Morin | Quilla      | 1704 | 2015 | 70 | France | 3.5  | Peru      |\n| 6 | A. Morin | Carenero    | 1315 | 2014 | 70 | France | 2.75 | Venezuela |\n\n",
            "text/latex": "A data.frame: 6 × 8\n\\begin{tabular}{r|llllllll}\n  & Company & Specific\\_Bean\\_Origin\\_or\\_Bar\\_Name & REF & Review\\_Date & Cocoa\\_Percentage & Company\\_Location & Rating & Broad\\_Bean\\_Origin\\\\\n  & <chr> & <chr> & <chr> & <chr> & <chr> & <chr> & <chr> & <chr>\\\\\n\\hline\n\t1 & A. Morin & Agua Grande & 1876 & 2016 & 63 & France & 3.75 & Sao Tome \\\\\n\t2 & A. Morin & Kpime       & 1676 & 2015 & 70 & France & 2.75 & Togo     \\\\\n\t3 & A. Morin & Atsane      & 1676 & 2015 & 70 & France & 3    & Togo     \\\\\n\t4 & A. Morin & Akata       & 1680 & 2015 & 70 & France & 3.5  & Togo     \\\\\n\t5 & A. Morin & Quilla      & 1704 & 2015 & 70 & France & 3.5  & Peru     \\\\\n\t6 & A. Morin & Carenero    & 1315 & 2014 & 70 & France & 2.75 & Venezuela\\\\\n\\end{tabular}\n",
            "text/plain": [
              "  Company  Specific_Bean_Origin_or_Bar_Name REF  Review_Date Cocoa_Percentage\n",
              "1 A. Morin Agua Grande                      1876 2016        63              \n",
              "2 A. Morin Kpime                            1676 2015        70              \n",
              "3 A. Morin Atsane                           1676 2015        70              \n",
              "4 A. Morin Akata                            1680 2015        70              \n",
              "5 A. Morin Quilla                           1704 2015        70              \n",
              "6 A. Morin Carenero                         1315 2014        70              \n",
              "  Company_Location Rating Broad_Bean_Origin\n",
              "1 France           3.75   Sao Tome         \n",
              "2 France           2.75   Togo             \n",
              "3 France           3      Togo             \n",
              "4 France           3.5    Togo             \n",
              "5 France           3.5    Peru             \n",
              "6 France           2.75   Venezuela        "
            ]
          },
          "metadata": {}
        }
      ]
    },
    {
      "cell_type": "markdown",
      "source": [
        "Dodaj do ramki danych nową kolumnę, która będzie zawierała informajce czy dana czekolada jest gorzka czy nie? W tym celu wykorzystaj zmienną Cocoa_Percentage."
      ],
      "metadata": {
        "id": "4nk6NV--CbAG"
      }
    },
    {
      "cell_type": "code",
      "source": [
        "df$czy_gorzka <- ifelse(df$Cocoa_Percentage >= 65, \"tak\", \"nie\")\n",
        "\n",
        "head(df)"
      ],
      "metadata": {
        "id": "S4yAXhvqFaUg",
        "colab": {
          "base_uri": "https://localhost:8080/",
          "height": 286
        },
        "outputId": "05278a8e-0e29-426f-fdf5-3d8fa15ac04b"
      },
      "execution_count": 148,
      "outputs": [
        {
          "output_type": "display_data",
          "data": {
            "text/html": [
              "<table class=\"dataframe\">\n",
              "<caption>A data.frame: 6 × 9</caption>\n",
              "<thead>\n",
              "\t<tr><th></th><th scope=col>Company</th><th scope=col>Specific_Bean_Origin_or_Bar_Name</th><th scope=col>REF</th><th scope=col>Review_Date</th><th scope=col>Cocoa_Percentage</th><th scope=col>Company_Location</th><th scope=col>Rating</th><th scope=col>Broad_Bean_Origin</th><th scope=col>czy_gorzka</th></tr>\n",
              "\t<tr><th></th><th scope=col>&lt;chr&gt;</th><th scope=col>&lt;chr&gt;</th><th scope=col>&lt;chr&gt;</th><th scope=col>&lt;chr&gt;</th><th scope=col>&lt;chr&gt;</th><th scope=col>&lt;chr&gt;</th><th scope=col>&lt;chr&gt;</th><th scope=col>&lt;chr&gt;</th><th scope=col>&lt;chr&gt;</th></tr>\n",
              "</thead>\n",
              "<tbody>\n",
              "\t<tr><th scope=row>1</th><td>A. Morin</td><td>Agua Grande</td><td>1876</td><td>2016</td><td>63</td><td>France</td><td>3.75</td><td>Sao Tome </td><td>nie</td></tr>\n",
              "\t<tr><th scope=row>2</th><td>A. Morin</td><td>Kpime      </td><td>1676</td><td>2015</td><td>70</td><td>France</td><td>2.75</td><td>Togo     </td><td>tak</td></tr>\n",
              "\t<tr><th scope=row>3</th><td>A. Morin</td><td>Atsane     </td><td>1676</td><td>2015</td><td>70</td><td>France</td><td>3   </td><td>Togo     </td><td>tak</td></tr>\n",
              "\t<tr><th scope=row>4</th><td>A. Morin</td><td>Akata      </td><td>1680</td><td>2015</td><td>70</td><td>France</td><td>3.5 </td><td>Togo     </td><td>tak</td></tr>\n",
              "\t<tr><th scope=row>5</th><td>A. Morin</td><td>Quilla     </td><td>1704</td><td>2015</td><td>70</td><td>France</td><td>3.5 </td><td>Peru     </td><td>tak</td></tr>\n",
              "\t<tr><th scope=row>6</th><td>A. Morin</td><td>Carenero   </td><td>1315</td><td>2014</td><td>70</td><td>France</td><td>2.75</td><td>Venezuela</td><td>tak</td></tr>\n",
              "</tbody>\n",
              "</table>\n"
            ],
            "text/markdown": "\nA data.frame: 6 × 9\n\n| <!--/--> | Company &lt;chr&gt; | Specific_Bean_Origin_or_Bar_Name &lt;chr&gt; | REF &lt;chr&gt; | Review_Date &lt;chr&gt; | Cocoa_Percentage &lt;chr&gt; | Company_Location &lt;chr&gt; | Rating &lt;chr&gt; | Broad_Bean_Origin &lt;chr&gt; | czy_gorzka &lt;chr&gt; |\n|---|---|---|---|---|---|---|---|---|---|\n| 1 | A. Morin | Agua Grande | 1876 | 2016 | 63 | France | 3.75 | Sao Tome  | nie |\n| 2 | A. Morin | Kpime       | 1676 | 2015 | 70 | France | 2.75 | Togo      | tak |\n| 3 | A. Morin | Atsane      | 1676 | 2015 | 70 | France | 3    | Togo      | tak |\n| 4 | A. Morin | Akata       | 1680 | 2015 | 70 | France | 3.5  | Togo      | tak |\n| 5 | A. Morin | Quilla      | 1704 | 2015 | 70 | France | 3.5  | Peru      | tak |\n| 6 | A. Morin | Carenero    | 1315 | 2014 | 70 | France | 2.75 | Venezuela | tak |\n\n",
            "text/latex": "A data.frame: 6 × 9\n\\begin{tabular}{r|lllllllll}\n  & Company & Specific\\_Bean\\_Origin\\_or\\_Bar\\_Name & REF & Review\\_Date & Cocoa\\_Percentage & Company\\_Location & Rating & Broad\\_Bean\\_Origin & czy\\_gorzka\\\\\n  & <chr> & <chr> & <chr> & <chr> & <chr> & <chr> & <chr> & <chr> & <chr>\\\\\n\\hline\n\t1 & A. Morin & Agua Grande & 1876 & 2016 & 63 & France & 3.75 & Sao Tome  & nie\\\\\n\t2 & A. Morin & Kpime       & 1676 & 2015 & 70 & France & 2.75 & Togo      & tak\\\\\n\t3 & A. Morin & Atsane      & 1676 & 2015 & 70 & France & 3    & Togo      & tak\\\\\n\t4 & A. Morin & Akata       & 1680 & 2015 & 70 & France & 3.5  & Togo      & tak\\\\\n\t5 & A. Morin & Quilla      & 1704 & 2015 & 70 & France & 3.5  & Peru      & tak\\\\\n\t6 & A. Morin & Carenero    & 1315 & 2014 & 70 & France & 2.75 & Venezuela & tak\\\\\n\\end{tabular}\n",
            "text/plain": [
              "  Company  Specific_Bean_Origin_or_Bar_Name REF  Review_Date Cocoa_Percentage\n",
              "1 A. Morin Agua Grande                      1876 2016        63              \n",
              "2 A. Morin Kpime                            1676 2015        70              \n",
              "3 A. Morin Atsane                           1676 2015        70              \n",
              "4 A. Morin Akata                            1680 2015        70              \n",
              "5 A. Morin Quilla                           1704 2015        70              \n",
              "6 A. Morin Carenero                         1315 2014        70              \n",
              "  Company_Location Rating Broad_Bean_Origin czy_gorzka\n",
              "1 France           3.75   Sao Tome          nie       \n",
              "2 France           2.75   Togo              tak       \n",
              "3 France           3      Togo              tak       \n",
              "4 France           3.5    Togo              tak       \n",
              "5 France           3.5    Peru              tak       \n",
              "6 France           2.75   Venezuela         tak       "
            ]
          },
          "metadata": {}
        }
      ]
    },
    {
      "cell_type": "markdown",
      "source": [
        "## Zapisywanie plików"
      ],
      "metadata": {
        "id": "PV-xtco3J4JG"
      }
    },
    {
      "cell_type": "markdown",
      "source": [
        "Wyczyszczoną ramkę danych zapisz do pliku csv o nazw new_cocoa_imie_nazwisko.csv. Pobierz plik na dysk i dołącz do zadania na upel razem z plikiem zaiwerającym wszystkie przeprowadzone analizy (R_Zadanie_1_imię_nazwisko.jpynb)"
      ],
      "metadata": {
        "id": "OHMjXpsqIP3j"
      }
    },
    {
      "cell_type": "code",
      "source": [
        "write.csv(df, file = \"new_cocoa_Katarzyna_Madej.csv\", row.names = FALSE)\n"
      ],
      "metadata": {
        "id": "BdaaQ-62F2Fx"
      },
      "execution_count": 151,
      "outputs": []
    }
  ]
}