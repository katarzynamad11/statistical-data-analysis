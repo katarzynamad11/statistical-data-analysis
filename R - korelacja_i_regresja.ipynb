{
  "cells": [
    {
      "cell_type": "markdown",
      "id": "9586fde2",
      "metadata": {
        "id": "9586fde2"
      },
      "source": [
        "# Korelacja i regresja - zadanie"
      ]
    },
    {
      "cell_type": "markdown",
      "id": "c992421a",
      "metadata": {
        "id": "c992421a"
      },
      "source": [
        "Zbiór danych **cars.csv** zawiera wyniki pewnych testów drogowych samochodów.\n",
        "Zmienne:\n",
        "- mpg: Liczba mil, jakie samochód może przejechać na jednym galonie paliwa. Oznacza \"Miles Per Gallon\" (mile na galon).\n",
        "- cylinders: Liczba cylindrów w silniku.\n",
        "- displacement: Pojemność skokowa silnika, mierzona w calach sześciennych (cu.in.).\n",
        "- horsepower: Moc silnika, wyrażona w koniach mechanicznych.\n",
        "- weight: Waga samochodu, podana w setkach funtów (1000 lbs).\n",
        "- acceleration: Przyśpieszenie pojazdu.\n",
        "- model: Rok pojazdu.\n",
        "- origin: Pochodzenie pojazdu - reprezentuje kod kraju.\n",
        "- car: Nazwa samochodu.\n",
        "\n"
      ]
    },
    {
      "cell_type": "markdown",
      "id": "9106b24a",
      "metadata": {
        "id": "9106b24a"
      },
      "source": [
        "## Wczytywanie danych\n",
        "Wczytaj jako ramka danych plik \"cars2.csv\", a nastepnie:\n",
        "- wyświetl kilka pierwszych wierszy\n",
        "- wyświetl strukturę ramki danych\n",
        "- wyświetl rozmiar ramki danych\n"
      ]
    },
    {
      "cell_type": "code",
      "source": [
        "data <- read.csv('cars.csv',stringsAsFactors = TRUE)\n",
        "head(data)\n",
        "str(data)\n",
        "dim(data)"
      ],
      "metadata": {
        "id": "6xkdou1Pvb3Y",
        "colab": {
          "base_uri": "https://localhost:8080/",
          "height": 486
        },
        "outputId": "c47b9111-6360-444d-80f8-3a32bded5b6d"
      },
      "id": "6xkdou1Pvb3Y",
      "execution_count": 51,
      "outputs": [
        {
          "output_type": "display_data",
          "data": {
            "text/html": [
              "<table class=\"dataframe\">\n",
              "<caption>A data.frame: 6 × 9</caption>\n",
              "<thead>\n",
              "\t<tr><th></th><th scope=col>mpg</th><th scope=col>cylinders</th><th scope=col>displacement</th><th scope=col>horsepower</th><th scope=col>weight</th><th scope=col>acceleration</th><th scope=col>model</th><th scope=col>origin</th><th scope=col>car</th></tr>\n",
              "\t<tr><th></th><th scope=col>&lt;dbl&gt;</th><th scope=col>&lt;int&gt;</th><th scope=col>&lt;int&gt;</th><th scope=col>&lt;int&gt;</th><th scope=col>&lt;int&gt;</th><th scope=col>&lt;dbl&gt;</th><th scope=col>&lt;int&gt;</th><th scope=col>&lt;int&gt;</th><th scope=col>&lt;fct&gt;</th></tr>\n",
              "</thead>\n",
              "<tbody>\n",
              "\t<tr><th scope=row>1</th><td>33.0</td><td>4</td><td> 91</td><td>32</td><td>1795</td><td>17.4</td><td>76</td><td>3</td><td>honda civic       </td></tr>\n",
              "\t<tr><th scope=row>2</th><td>20.0</td><td>6</td><td>225</td><td> 2</td><td>3651</td><td>17.7</td><td>76</td><td>1</td><td>dodge aspen se    </td></tr>\n",
              "\t<tr><th scope=row>3</th><td>18.0</td><td>6</td><td>250</td><td>50</td><td>3574</td><td>21.0</td><td>76</td><td>1</td><td>ford granada ghia </td></tr>\n",
              "\t<tr><th scope=row>4</th><td>18.5</td><td>6</td><td>250</td><td> 7</td><td>3645</td><td>16.2</td><td>76</td><td>1</td><td>pontiac ventura sj</td></tr>\n",
              "\t<tr><th scope=row>5</th><td>17.5</td><td>6</td><td>258</td><td>62</td><td>3193</td><td>17.8</td><td>76</td><td>1</td><td>amc pacer d/l     </td></tr>\n",
              "\t<tr><th scope=row>6</th><td>29.5</td><td>4</td><td> 97</td><td>44</td><td>1825</td><td>12.2</td><td>76</td><td>2</td><td>volkswagen rabbit </td></tr>\n",
              "</tbody>\n",
              "</table>\n"
            ],
            "text/markdown": "\nA data.frame: 6 × 9\n\n| <!--/--> | mpg &lt;dbl&gt; | cylinders &lt;int&gt; | displacement &lt;int&gt; | horsepower &lt;int&gt; | weight &lt;int&gt; | acceleration &lt;dbl&gt; | model &lt;int&gt; | origin &lt;int&gt; | car &lt;fct&gt; |\n|---|---|---|---|---|---|---|---|---|---|\n| 1 | 33.0 | 4 |  91 | 32 | 1795 | 17.4 | 76 | 3 | honda civic        |\n| 2 | 20.0 | 6 | 225 |  2 | 3651 | 17.7 | 76 | 1 | dodge aspen se     |\n| 3 | 18.0 | 6 | 250 | 50 | 3574 | 21.0 | 76 | 1 | ford granada ghia  |\n| 4 | 18.5 | 6 | 250 |  7 | 3645 | 16.2 | 76 | 1 | pontiac ventura sj |\n| 5 | 17.5 | 6 | 258 | 62 | 3193 | 17.8 | 76 | 1 | amc pacer d/l      |\n| 6 | 29.5 | 4 |  97 | 44 | 1825 | 12.2 | 76 | 2 | volkswagen rabbit  |\n\n",
            "text/latex": "A data.frame: 6 × 9\n\\begin{tabular}{r|lllllllll}\n  & mpg & cylinders & displacement & horsepower & weight & acceleration & model & origin & car\\\\\n  & <dbl> & <int> & <int> & <int> & <int> & <dbl> & <int> & <int> & <fct>\\\\\n\\hline\n\t1 & 33.0 & 4 &  91 & 32 & 1795 & 17.4 & 76 & 3 & honda civic       \\\\\n\t2 & 20.0 & 6 & 225 &  2 & 3651 & 17.7 & 76 & 1 & dodge aspen se    \\\\\n\t3 & 18.0 & 6 & 250 & 50 & 3574 & 21.0 & 76 & 1 & ford granada ghia \\\\\n\t4 & 18.5 & 6 & 250 &  7 & 3645 & 16.2 & 76 & 1 & pontiac ventura sj\\\\\n\t5 & 17.5 & 6 & 258 & 62 & 3193 & 17.8 & 76 & 1 & amc pacer d/l     \\\\\n\t6 & 29.5 & 4 &  97 & 44 & 1825 & 12.2 & 76 & 2 & volkswagen rabbit \\\\\n\\end{tabular}\n",
            "text/plain": [
              "  mpg  cylinders displacement horsepower weight acceleration model origin\n",
              "1 33.0 4          91          32         1795   17.4         76    3     \n",
              "2 20.0 6         225           2         3651   17.7         76    1     \n",
              "3 18.0 6         250          50         3574   21.0         76    1     \n",
              "4 18.5 6         250           7         3645   16.2         76    1     \n",
              "5 17.5 6         258          62         3193   17.8         76    1     \n",
              "6 29.5 4          97          44         1825   12.2         76    2     \n",
              "  car               \n",
              "1 honda civic       \n",
              "2 dodge aspen se    \n",
              "3 ford granada ghia \n",
              "4 pontiac ventura sj\n",
              "5 amc pacer d/l     \n",
              "6 volkswagen rabbit "
            ]
          },
          "metadata": {}
        },
        {
          "output_type": "stream",
          "name": "stdout",
          "text": [
            "'data.frame':\t200 obs. of  9 variables:\n",
            " $ mpg         : num  33 20 18 18.5 17.5 29.5 32 28 26.5 20 ...\n",
            " $ cylinders   : int  4 6 6 6 6 4 4 4 4 4 ...\n",
            " $ displacement: int  91 225 250 250 258 97 85 97 140 130 ...\n",
            " $ horsepower  : int  32 2 50 7 62 44 43 47 45 3 ...\n",
            " $ weight      : int  1795 3651 3574 3645 3193 1825 1990 2155 2565 3150 ...\n",
            " $ acceleration: num  17.4 17.7 21 16.2 17.8 12.2 17 16.4 13.6 15.7 ...\n",
            " $ model       : int  76 76 76 76 76 76 76 76 76 76 ...\n",
            " $ origin      : int  3 1 1 1 1 2 3 3 1 2 ...\n",
            " $ car         : Factor w/ 179 levels \"amc concord\",..: 94 56 81 145 5 167 49 154 88 172 ...\n"
          ]
        },
        {
          "output_type": "display_data",
          "data": {
            "text/html": [
              "<style>\n",
              ".list-inline {list-style: none; margin:0; padding: 0}\n",
              ".list-inline>li {display: inline-block}\n",
              ".list-inline>li:not(:last-child)::after {content: \"\\00b7\"; padding: 0 .5ex}\n",
              "</style>\n",
              "<ol class=list-inline><li>200</li><li>9</li></ol>\n"
            ],
            "text/markdown": "1. 200\n2. 9\n\n\n",
            "text/latex": "\\begin{enumerate*}\n\\item 200\n\\item 9\n\\end{enumerate*}\n",
            "text/plain": [
              "[1] 200   9"
            ]
          },
          "metadata": {}
        }
      ]
    },
    {
      "cell_type": "markdown",
      "id": "6904f790",
      "metadata": {
        "id": "6904f790"
      },
      "source": [
        "Sprawdź, czy wystepują braki. Wyświetl ich sumę. Jeśli wystepują uzupełnij\n",
        " je np. medianą. Sprawdź rezultat.\n"
      ]
    },
    {
      "cell_type": "code",
      "source": [
        "sum(is.na(data))\n",
        "bedroom_median=median(data$horsepower,na.rm=TRUE)\n",
        "bedroom_median\n",
        "data$horsepower[is.na(data$horsepower)]=median(data$horsepower,na.rm=TRUE)\n",
        "sum(is.na(data))"
      ],
      "metadata": {
        "id": "I6j6uPfjvd1o",
        "colab": {
          "base_uri": "https://localhost:8080/",
          "height": 69
        },
        "outputId": "e3f3d551-0083-453f-efef-26c11406317f"
      },
      "id": "I6j6uPfjvd1o",
      "execution_count": 52,
      "outputs": [
        {
          "output_type": "display_data",
          "data": {
            "text/html": [
              "4"
            ],
            "text/markdown": "4",
            "text/latex": "4",
            "text/plain": [
              "[1] 4"
            ]
          },
          "metadata": {}
        },
        {
          "output_type": "display_data",
          "data": {
            "text/html": [
              "40"
            ],
            "text/markdown": "40",
            "text/latex": "40",
            "text/plain": [
              "[1] 40"
            ]
          },
          "metadata": {}
        },
        {
          "output_type": "display_data",
          "data": {
            "text/html": [
              "0"
            ],
            "text/markdown": "0",
            "text/latex": "0",
            "text/plain": [
              "[1] 0"
            ]
          },
          "metadata": {}
        }
      ]
    },
    {
      "cell_type": "markdown",
      "id": "f07a66c1",
      "metadata": {
        "id": "f07a66c1"
      },
      "source": [
        "Wybierz do analizy tylko zmienne numeryczne."
      ]
    },
    {
      "cell_type": "code",
      "source": [
        "num_cols <- sapply(data,is.numeric)\n",
        "num_cols\n"
      ],
      "metadata": {
        "id": "mgnUxXM5vfdV",
        "colab": {
          "base_uri": "https://localhost:8080/",
          "height": 34
        },
        "outputId": "67c5f95d-d522-4052-d77a-498840b3f799"
      },
      "id": "mgnUxXM5vfdV",
      "execution_count": 53,
      "outputs": [
        {
          "output_type": "display_data",
          "data": {
            "text/html": [
              "<style>\n",
              ".dl-inline {width: auto; margin:0; padding: 0}\n",
              ".dl-inline>dt, .dl-inline>dd {float: none; width: auto; display: inline-block}\n",
              ".dl-inline>dt::after {content: \":\\0020\"; padding-right: .5ex}\n",
              ".dl-inline>dt:not(:first-of-type) {padding-left: .5ex}\n",
              "</style><dl class=dl-inline><dt>mpg</dt><dd>TRUE</dd><dt>cylinders</dt><dd>TRUE</dd><dt>displacement</dt><dd>TRUE</dd><dt>horsepower</dt><dd>TRUE</dd><dt>weight</dt><dd>TRUE</dd><dt>acceleration</dt><dd>TRUE</dd><dt>model</dt><dd>TRUE</dd><dt>origin</dt><dd>TRUE</dd><dt>car</dt><dd>FALSE</dd></dl>\n"
            ],
            "text/markdown": "mpg\n:   TRUEcylinders\n:   TRUEdisplacement\n:   TRUEhorsepower\n:   TRUEweight\n:   TRUEacceleration\n:   TRUEmodel\n:   TRUEorigin\n:   TRUEcar\n:   FALSE\n\n",
            "text/latex": "\\begin{description*}\n\\item[mpg] TRUE\n\\item[cylinders] TRUE\n\\item[displacement] TRUE\n\\item[horsepower] TRUE\n\\item[weight] TRUE\n\\item[acceleration] TRUE\n\\item[model] TRUE\n\\item[origin] TRUE\n\\item[car] FALSE\n\\end{description*}\n",
            "text/plain": [
              "         mpg    cylinders displacement   horsepower       weight acceleration \n",
              "        TRUE         TRUE         TRUE         TRUE         TRUE         TRUE \n",
              "       model       origin          car \n",
              "        TRUE         TRUE        FALSE "
            ]
          },
          "metadata": {}
        }
      ]
    },
    {
      "cell_type": "markdown",
      "id": "552de446",
      "metadata": {
        "id": "552de446"
      },
      "source": [
        "## Korelacja"
      ]
    },
    {
      "cell_type": "code",
      "execution_count": null,
      "id": "0a77934c",
      "metadata": {
        "id": "0a77934c"
      },
      "outputs": [],
      "source": [
        "Policz korelację między zmiennymi (przedsatw macierz korelacji). Opisz uzyskane wyniki. Z którymi zmiennymi skorelowana jest zmienna mpg?"
      ]
    },
    {
      "cell_type": "code",
      "source": [
        "cor_data <- cor(data[,num_cols])\n",
        "cor_data"
      ],
      "metadata": {
        "id": "bD5SxDvJvkt0",
        "colab": {
          "base_uri": "https://localhost:8080/",
          "height": 317
        },
        "outputId": "6676e1bd-13b7-4a29-e43a-2c89633630b1"
      },
      "id": "bD5SxDvJvkt0",
      "execution_count": 54,
      "outputs": [
        {
          "output_type": "display_data",
          "data": {
            "text/html": [
              "<table class=\"dataframe\">\n",
              "<caption>A matrix: 8 × 8 of type dbl</caption>\n",
              "<thead>\n",
              "\t<tr><th></th><th scope=col>mpg</th><th scope=col>cylinders</th><th scope=col>displacement</th><th scope=col>horsepower</th><th scope=col>weight</th><th scope=col>acceleration</th><th scope=col>model</th><th scope=col>origin</th></tr>\n",
              "</thead>\n",
              "<tbody>\n",
              "\t<tr><th scope=row>mpg</th><td> 1.0000000</td><td>-0.7206425</td><td>-0.7773678</td><td> 0.35124490</td><td>-0.8498579</td><td> 0.2585013</td><td> 0.5041184</td><td> 0.50125909</td></tr>\n",
              "\t<tr><th scope=row>cylinders</th><td>-0.7206425</td><td> 1.0000000</td><td> 0.9393381</td><td>-0.49330101</td><td> 0.8565786</td><td>-0.2676516</td><td>-0.3583230</td><td>-0.45107627</td></tr>\n",
              "\t<tr><th scope=row>displacement</th><td>-0.7773678</td><td> 0.9393381</td><td> 1.0000000</td><td>-0.39747655</td><td> 0.9224963</td><td>-0.2752393</td><td>-0.3386787</td><td>-0.56276366</td></tr>\n",
              "\t<tr><th scope=row>horsepower</th><td> 0.3512449</td><td>-0.4933010</td><td>-0.3974765</td><td> 1.00000000</td><td>-0.4052634</td><td> 0.2090755</td><td> 0.2634229</td><td> 0.08464419</td></tr>\n",
              "\t<tr><th scope=row>weight</th><td>-0.8498579</td><td> 0.8565786</td><td> 0.9224963</td><td>-0.40526343</td><td> 1.0000000</td><td>-0.1316865</td><td>-0.3502066</td><td>-0.54323084</td></tr>\n",
              "\t<tr><th scope=row>acceleration</th><td> 0.2585013</td><td>-0.2676516</td><td>-0.2752393</td><td> 0.20907551</td><td>-0.1316865</td><td> 1.0000000</td><td> 0.1523402</td><td> 0.10390974</td></tr>\n",
              "\t<tr><th scope=row>model</th><td> 0.5041184</td><td>-0.3583230</td><td>-0.3386787</td><td> 0.26342290</td><td>-0.3502066</td><td> 0.1523402</td><td> 1.0000000</td><td> 0.11219251</td></tr>\n",
              "\t<tr><th scope=row>origin</th><td> 0.5012591</td><td>-0.4510763</td><td>-0.5627637</td><td> 0.08464419</td><td>-0.5432308</td><td> 0.1039097</td><td> 0.1121925</td><td> 1.00000000</td></tr>\n",
              "</tbody>\n",
              "</table>\n"
            ],
            "text/markdown": "\nA matrix: 8 × 8 of type dbl\n\n| <!--/--> | mpg | cylinders | displacement | horsepower | weight | acceleration | model | origin |\n|---|---|---|---|---|---|---|---|---|\n| mpg |  1.0000000 | -0.7206425 | -0.7773678 |  0.35124490 | -0.8498579 |  0.2585013 |  0.5041184 |  0.50125909 |\n| cylinders | -0.7206425 |  1.0000000 |  0.9393381 | -0.49330101 |  0.8565786 | -0.2676516 | -0.3583230 | -0.45107627 |\n| displacement | -0.7773678 |  0.9393381 |  1.0000000 | -0.39747655 |  0.9224963 | -0.2752393 | -0.3386787 | -0.56276366 |\n| horsepower |  0.3512449 | -0.4933010 | -0.3974765 |  1.00000000 | -0.4052634 |  0.2090755 |  0.2634229 |  0.08464419 |\n| weight | -0.8498579 |  0.8565786 |  0.9224963 | -0.40526343 |  1.0000000 | -0.1316865 | -0.3502066 | -0.54323084 |\n| acceleration |  0.2585013 | -0.2676516 | -0.2752393 |  0.20907551 | -0.1316865 |  1.0000000 |  0.1523402 |  0.10390974 |\n| model |  0.5041184 | -0.3583230 | -0.3386787 |  0.26342290 | -0.3502066 |  0.1523402 |  1.0000000 |  0.11219251 |\n| origin |  0.5012591 | -0.4510763 | -0.5627637 |  0.08464419 | -0.5432308 |  0.1039097 |  0.1121925 |  1.00000000 |\n\n",
            "text/latex": "A matrix: 8 × 8 of type dbl\n\\begin{tabular}{r|llllllll}\n  & mpg & cylinders & displacement & horsepower & weight & acceleration & model & origin\\\\\n\\hline\n\tmpg &  1.0000000 & -0.7206425 & -0.7773678 &  0.35124490 & -0.8498579 &  0.2585013 &  0.5041184 &  0.50125909\\\\\n\tcylinders & -0.7206425 &  1.0000000 &  0.9393381 & -0.49330101 &  0.8565786 & -0.2676516 & -0.3583230 & -0.45107627\\\\\n\tdisplacement & -0.7773678 &  0.9393381 &  1.0000000 & -0.39747655 &  0.9224963 & -0.2752393 & -0.3386787 & -0.56276366\\\\\n\thorsepower &  0.3512449 & -0.4933010 & -0.3974765 &  1.00000000 & -0.4052634 &  0.2090755 &  0.2634229 &  0.08464419\\\\\n\tweight & -0.8498579 &  0.8565786 &  0.9224963 & -0.40526343 &  1.0000000 & -0.1316865 & -0.3502066 & -0.54323084\\\\\n\tacceleration &  0.2585013 & -0.2676516 & -0.2752393 &  0.20907551 & -0.1316865 &  1.0000000 &  0.1523402 &  0.10390974\\\\\n\tmodel &  0.5041184 & -0.3583230 & -0.3386787 &  0.26342290 & -0.3502066 &  0.1523402 &  1.0000000 &  0.11219251\\\\\n\torigin &  0.5012591 & -0.4510763 & -0.5627637 &  0.08464419 & -0.5432308 &  0.1039097 &  0.1121925 &  1.00000000\\\\\n\\end{tabular}\n",
            "text/plain": [
              "             mpg        cylinders  displacement horsepower  weight    \n",
              "mpg           1.0000000 -0.7206425 -0.7773678    0.35124490 -0.8498579\n",
              "cylinders    -0.7206425  1.0000000  0.9393381   -0.49330101  0.8565786\n",
              "displacement -0.7773678  0.9393381  1.0000000   -0.39747655  0.9224963\n",
              "horsepower    0.3512449 -0.4933010 -0.3974765    1.00000000 -0.4052634\n",
              "weight       -0.8498579  0.8565786  0.9224963   -0.40526343  1.0000000\n",
              "acceleration  0.2585013 -0.2676516 -0.2752393    0.20907551 -0.1316865\n",
              "model         0.5041184 -0.3583230 -0.3386787    0.26342290 -0.3502066\n",
              "origin        0.5012591 -0.4510763 -0.5627637    0.08464419 -0.5432308\n",
              "             acceleration model      origin     \n",
              "mpg           0.2585013    0.5041184  0.50125909\n",
              "cylinders    -0.2676516   -0.3583230 -0.45107627\n",
              "displacement -0.2752393   -0.3386787 -0.56276366\n",
              "horsepower    0.2090755    0.2634229  0.08464419\n",
              "weight       -0.1316865   -0.3502066 -0.54323084\n",
              "acceleration  1.0000000    0.1523402  0.10390974\n",
              "model         0.1523402    1.0000000  0.11219251\n",
              "origin        0.1039097    0.1121925  1.00000000"
            ]
          },
          "metadata": {}
        }
      ]
    },
    {
      "cell_type": "markdown",
      "source": [
        "Zmienna mpg jest silnie ujemnie skorelowana ze zmiennymi cylinders, displacement, weight.\n",
        "Natomiast dodatnio skorelowana jest z acceleration, model, origin, horsepower\n",
        "\n",
        "\n"
      ],
      "metadata": {
        "id": "YwSBnR5L8IMR"
      },
      "id": "YwSBnR5L8IMR"
    },
    {
      "cell_type": "markdown",
      "id": "1d9e0238",
      "metadata": {
        "id": "1d9e0238"
      },
      "source": [
        "## Regresja"
      ]
    },
    {
      "cell_type": "markdown",
      "id": "2b594c29",
      "metadata": {
        "id": "2b594c29"
      },
      "source": [
        "1. Zbuduj modele regrsji:\n",
        "- liniowej prostej\n",
        "- oraz wielorakiej (peny model i regresja krokowa wsteczna lub regresja krokowa postępująca)\n",
        "2. Wykonaj predykcję dla każdego modelu.\n",
        "3. Oceń, który model daje najlepsze wyniki"
      ]
    },
    {
      "cell_type": "code",
      "source": [
        "#liniowa prosta\n",
        "\n",
        "\n",
        "model_lm <- lm(mpg ~ displacement, data = data_numeric)\n",
        "summary(model_lm)\n"
      ],
      "metadata": {
        "id": "_1BNuV61vnE-",
        "colab": {
          "base_uri": "https://localhost:8080/",
          "height": 345
        },
        "outputId": "00364846-1d64-486e-9ffb-233fd67b7a41"
      },
      "id": "_1BNuV61vnE-",
      "execution_count": 13,
      "outputs": [
        {
          "output_type": "display_data",
          "data": {
            "text/plain": [
              "\n",
              "Call:\n",
              "lm(formula = mpg ~ displacement, data = data_numeric)\n",
              "\n",
              "Residuals:\n",
              "     Min       1Q   Median       3Q      Max \n",
              "-11.8908  -2.9668  -0.4733   2.7056  17.9176 \n",
              "\n",
              "Coefficients:\n",
              "              Estimate Std. Error t value Pr(>|t|)    \n",
              "(Intercept)  39.240619   0.769980   50.96   <2e-16 ***\n",
              "displacement -0.073123   0.004205  -17.39   <2e-16 ***\n",
              "---\n",
              "Signif. codes:  0 ‘***’ 0.001 ‘**’ 0.01 ‘*’ 0.05 ‘.’ 0.1 ‘ ’ 1\n",
              "\n",
              "Residual standard error: 4.88 on 198 degrees of freedom\n",
              "Multiple R-squared:  0.6043,\tAdjusted R-squared:  0.6023 \n",
              "F-statistic: 302.4 on 1 and 198 DF,  p-value: < 2.2e-16\n"
            ]
          },
          "metadata": {}
        }
      ]
    },
    {
      "cell_type": "code",
      "source": [
        "#wieloraka\n",
        "\n",
        "print(\"pelny model\")\n",
        "full_model <- lm(mpg ~ ., data = data_numeric)\n",
        "summary(full_model)\n",
        "\n",
        "#regresja krokowa postępująca\n",
        "min_model <- lm(mpg ~ 1, data)\n",
        "model_forward <- step(min_model, scope = list(upper = full_model,\n",
        "                lower = min_model), direction = \"forward\")\n"
      ],
      "metadata": {
        "colab": {
          "base_uri": "https://localhost:8080/",
          "height": 1056
        },
        "id": "bEDbQD0DwGDY",
        "outputId": "dfb769e0-2405-40eb-aa2e-1c5f96405d7b"
      },
      "id": "bEDbQD0DwGDY",
      "execution_count": 16,
      "outputs": [
        {
          "output_type": "stream",
          "name": "stdout",
          "text": [
            "[1] \"pelny model\"\n"
          ]
        },
        {
          "output_type": "display_data",
          "data": {
            "text/plain": [
              "\n",
              "Call:\n",
              "lm(formula = mpg ~ ., data = data_numeric)\n",
              "\n",
              "Residuals:\n",
              "    Min      1Q  Median      3Q     Max \n",
              "-8.0752 -2.3423 -0.3249  1.9014 11.5989 \n",
              "\n",
              "Coefficients:\n",
              "               Estimate Std. Error t value Pr(>|t|)    \n",
              "(Intercept)  -32.497610  11.975488  -2.714  0.00727 ** \n",
              "cylinders     -0.138719   0.550572  -0.252  0.80135    \n",
              "displacement   0.027159   0.013531   2.007  0.04616 *  \n",
              "horsepower    -0.015235   0.016045  -0.950  0.34358    \n",
              "weight        -0.010575   0.001032 -10.249  < 2e-16 ***\n",
              "acceleration   0.530796   0.112079   4.736 4.28e-06 ***\n",
              "model          0.958452   0.143120   6.697 2.39e-10 ***\n",
              "origin         0.811050   0.366179   2.215  0.02797 *  \n",
              "---\n",
              "Signif. codes:  0 ‘***’ 0.001 ‘**’ 0.01 ‘*’ 0.05 ‘.’ 0.1 ‘ ’ 1\n",
              "\n",
              "Residual standard error: 3.517 on 188 degrees of freedom\n",
              "  (4 observations deleted due to missingness)\n",
              "Multiple R-squared:  0.8004,\tAdjusted R-squared:  0.7929 \n",
              "F-statistic: 107.7 on 7 and 188 DF,  p-value: < 2.2e-16\n"
            ]
          },
          "metadata": {}
        },
        {
          "output_type": "stream",
          "name": "stdout",
          "text": [
            "[1] \"regresja krokowa postepujaca\"\n",
            "Start:  AIC=500.82\n",
            "mpg ~ cylinders + displacement + horsepower + weight + acceleration + \n",
            "    model + origin\n",
            "\n"
          ]
        },
        {
          "output_type": "display_data",
          "data": {
            "text/plain": [
              "\n",
              "Call:\n",
              "lm(formula = mpg ~ cylinders + displacement + horsepower + weight + \n",
              "    acceleration + model + origin, data = data_numeric)\n",
              "\n",
              "Residuals:\n",
              "    Min      1Q  Median      3Q     Max \n",
              "-8.0752 -2.3423 -0.3249  1.9014 11.5989 \n",
              "\n",
              "Coefficients:\n",
              "               Estimate Std. Error t value Pr(>|t|)    \n",
              "(Intercept)  -32.497610  11.975488  -2.714  0.00727 ** \n",
              "cylinders     -0.138719   0.550572  -0.252  0.80135    \n",
              "displacement   0.027159   0.013531   2.007  0.04616 *  \n",
              "horsepower    -0.015235   0.016045  -0.950  0.34358    \n",
              "weight        -0.010575   0.001032 -10.249  < 2e-16 ***\n",
              "acceleration   0.530796   0.112079   4.736 4.28e-06 ***\n",
              "model          0.958452   0.143120   6.697 2.39e-10 ***\n",
              "origin         0.811050   0.366179   2.215  0.02797 *  \n",
              "---\n",
              "Signif. codes:  0 ‘***’ 0.001 ‘**’ 0.01 ‘*’ 0.05 ‘.’ 0.1 ‘ ’ 1\n",
              "\n",
              "Residual standard error: 3.517 on 188 degrees of freedom\n",
              "  (4 observations deleted due to missingness)\n",
              "Multiple R-squared:  0.8004,\tAdjusted R-squared:  0.7929 \n",
              "F-statistic: 107.7 on 7 and 188 DF,  p-value: < 2.2e-16\n"
            ]
          },
          "metadata": {}
        }
      ]
    },
    {
      "cell_type": "code",
      "source": [
        "# Predykcja dla pełnego modelu\n",
        "predictions_full <- predict(full_model, data_numeric)\n",
        "results <- cbind(predictions_full, data_numeric$mpg)\n",
        "colnames(results) <- c('pred', 'real')\n",
        "results <- as.data.frame(results)\n",
        "head(results)\n",
        "\n",
        "\n"
      ],
      "metadata": {
        "colab": {
          "base_uri": "https://localhost:8080/",
          "height": 286
        },
        "id": "YCM_6iKYxGiF",
        "outputId": "2b63e883-ed7c-4672-9ab4-18ec201393fe"
      },
      "id": "YCM_6iKYxGiF",
      "execution_count": 31,
      "outputs": [
        {
          "output_type": "display_data",
          "data": {
            "text/html": [
              "<table class=\"dataframe\">\n",
              "<caption>A data.frame: 6 × 2</caption>\n",
              "<thead>\n",
              "\t<tr><th></th><th scope=col>pred</th><th scope=col>real</th></tr>\n",
              "\t<tr><th></th><th scope=col>&lt;dbl&gt;</th><th scope=col>&lt;dbl&gt;</th></tr>\n",
              "</thead>\n",
              "<tbody>\n",
              "\t<tr><th scope=row>1</th><td>34.46030</td><td>33.0</td></tr>\n",
              "\t<tr><th scope=row>2</th><td>17.18875</td><td>20.0</td></tr>\n",
              "\t<tr><th scope=row>3</th><td>19.70236</td><td>18.0</td></tr>\n",
              "\t<tr><th scope=row>4</th><td>17.05881</td><td>18.5</td></tr>\n",
              "\t<tr><th scope=row>5</th><td>22.06742</td><td>17.5</td></tr>\n",
              "\t<tr><th scope=row>6</th><td>30.55198</td><td>29.5</td></tr>\n",
              "</tbody>\n",
              "</table>\n"
            ],
            "text/markdown": "\nA data.frame: 6 × 2\n\n| <!--/--> | pred &lt;dbl&gt; | real &lt;dbl&gt; |\n|---|---|---|\n| 1 | 34.46030 | 33.0 |\n| 2 | 17.18875 | 20.0 |\n| 3 | 19.70236 | 18.0 |\n| 4 | 17.05881 | 18.5 |\n| 5 | 22.06742 | 17.5 |\n| 6 | 30.55198 | 29.5 |\n\n",
            "text/latex": "A data.frame: 6 × 2\n\\begin{tabular}{r|ll}\n  & pred & real\\\\\n  & <dbl> & <dbl>\\\\\n\\hline\n\t1 & 34.46030 & 33.0\\\\\n\t2 & 17.18875 & 20.0\\\\\n\t3 & 19.70236 & 18.0\\\\\n\t4 & 17.05881 & 18.5\\\\\n\t5 & 22.06742 & 17.5\\\\\n\t6 & 30.55198 & 29.5\\\\\n\\end{tabular}\n",
            "text/plain": [
              "  pred     real\n",
              "1 34.46030 33.0\n",
              "2 17.18875 20.0\n",
              "3 19.70236 18.0\n",
              "4 17.05881 18.5\n",
              "5 22.06742 17.5\n",
              "6 30.55198 29.5"
            ]
          },
          "metadata": {}
        }
      ]
    },
    {
      "cell_type": "code",
      "source": [
        "# Predykcja dla regresji krokowej postępującej\n",
        "predictions_forward <- predict(model_forward, newdata = data)\n",
        "results_forward <- cbind(pred = predictions_forward, real = data$mpg)\n",
        "colnames(results_forward) <- c('pred', 'real')\n",
        "results_forward <- as.data.frame(results_forward)\n",
        "head(results_forward)\n"
      ],
      "metadata": {
        "colab": {
          "base_uri": "https://localhost:8080/",
          "height": 286
        },
        "id": "kQmI80Lmx_eu",
        "outputId": "9de2cbf4-7d82-4619-9787-65352d8f186e"
      },
      "id": "kQmI80Lmx_eu",
      "execution_count": 46,
      "outputs": [
        {
          "output_type": "display_data",
          "data": {
            "text/html": [
              "<table class=\"dataframe\">\n",
              "<caption>A data.frame: 6 × 2</caption>\n",
              "<thead>\n",
              "\t<tr><th></th><th scope=col>pred</th><th scope=col>real</th></tr>\n",
              "\t<tr><th></th><th scope=col>&lt;dbl&gt;</th><th scope=col>&lt;dbl&gt;</th></tr>\n",
              "</thead>\n",
              "<tbody>\n",
              "\t<tr><th scope=row>1</th><td>34.51716</td><td>33.0</td></tr>\n",
              "\t<tr><th scope=row>2</th><td>16.70221</td><td>20.0</td></tr>\n",
              "\t<tr><th scope=row>3</th><td>19.84485</td><td>18.0</td></tr>\n",
              "\t<tr><th scope=row>4</th><td>16.66491</td><td>18.5</td></tr>\n",
              "\t<tr><th scope=row>5</th><td>22.48853</td><td>17.5</td></tr>\n",
              "\t<tr><th scope=row>6</th><td>30.85046</td><td>29.5</td></tr>\n",
              "</tbody>\n",
              "</table>\n"
            ],
            "text/markdown": "\nA data.frame: 6 × 2\n\n| <!--/--> | pred &lt;dbl&gt; | real &lt;dbl&gt; |\n|---|---|---|\n| 1 | 34.51716 | 33.0 |\n| 2 | 16.70221 | 20.0 |\n| 3 | 19.84485 | 18.0 |\n| 4 | 16.66491 | 18.5 |\n| 5 | 22.48853 | 17.5 |\n| 6 | 30.85046 | 29.5 |\n\n",
            "text/latex": "A data.frame: 6 × 2\n\\begin{tabular}{r|ll}\n  & pred & real\\\\\n  & <dbl> & <dbl>\\\\\n\\hline\n\t1 & 34.51716 & 33.0\\\\\n\t2 & 16.70221 & 20.0\\\\\n\t3 & 19.84485 & 18.0\\\\\n\t4 & 16.66491 & 18.5\\\\\n\t5 & 22.48853 & 17.5\\\\\n\t6 & 30.85046 & 29.5\\\\\n\\end{tabular}\n",
            "text/plain": [
              "  pred     real\n",
              "1 34.51716 33.0\n",
              "2 16.70221 20.0\n",
              "3 19.84485 18.0\n",
              "4 16.66491 18.5\n",
              "5 22.48853 17.5\n",
              "6 30.85046 29.5"
            ]
          },
          "metadata": {}
        }
      ]
    },
    {
      "cell_type": "code",
      "source": [
        "#ocena modelu\n",
        "\n",
        "summary(full_model)$adj.r.squared\n",
        "\n",
        "summary(model_forward)$adj.r.squared\n"
      ],
      "metadata": {
        "colab": {
          "base_uri": "https://localhost:8080/",
          "height": 52
        },
        "id": "kDTSAtsS0clK",
        "outputId": "9b44adeb-ecda-4a3e-c85d-ca9e09016e42"
      },
      "id": "kDTSAtsS0clK",
      "execution_count": 47,
      "outputs": [
        {
          "output_type": "display_data",
          "data": {
            "text/html": [
              "0.792918536085571"
            ],
            "text/markdown": "0.792918536085571",
            "text/latex": "0.792918536085571",
            "text/plain": [
              "[1] 0.7929185"
            ]
          },
          "metadata": {}
        },
        {
          "output_type": "display_data",
          "data": {
            "text/html": [
              "0.794313874539392"
            ],
            "text/markdown": "0.794313874539392",
            "text/latex": "0.794313874539392",
            "text/plain": [
              "[1] 0.7943139"
            ]
          },
          "metadata": {}
        }
      ]
    },
    {
      "cell_type": "markdown",
      "source": [
        "Oceny poddalysmy pelny model oraz regresja krokowa postępująca. Po zrobieniu predykcji i ogolnej oceny modelu, nie widzimy duzej/znaczacej roznicy pomiedzy wynikami. Większy współczynnik determinacji oznacza, że model lepiej dopasowuje się do danych, dlatego mozemy powieziec ze w tym przypadku lepiej sobie poradzil model - regresja krokowa postępująca.\n",
        "\n",
        "\n",
        "\n",
        "\n"
      ],
      "metadata": {
        "id": "gU1M73hH6AYd"
      },
      "id": "gU1M73hH6AYd"
    }
  ],
  "metadata": {
    "kernelspec": {
      "display_name": "R",
      "name": "ir"
    },
    "language_info": {
      "codemirror_mode": "r",
      "file_extension": ".r",
      "mimetype": "text/x-r-source",
      "name": "R",
      "pygments_lexer": "r",
      "version": "4.3.0"
    },
    "colab": {
      "provenance": []
    }
  },
  "nbformat": 4,
  "nbformat_minor": 5
}